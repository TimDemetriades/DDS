{
 "cells": [
  {
   "cell_type": "code",
   "execution_count": 1,
   "id": "chief-italy",
   "metadata": {},
   "outputs": [],
   "source": [
    "import numpy as np\n",
    "from scipy import signal\n",
    "import adi"
   ]
  },
  {
   "cell_type": "code",
   "execution_count": 2,
   "id": "oriental-treaty",
   "metadata": {},
   "outputs": [],
   "source": [
    "def fftnoise(f):\n",
    "    f = np.array(f, dtype='complex')\n",
    "    Np = (len(f) - 1) // 2\n",
    "    phases = np.random.rand(Np) * 2 * np.pi\n",
    "    phases = np.cos(phases) + 1j * np.sin(phases)\n",
    "    f[1:Np+1] *= phases\n",
    "    f[-1:-1-Np:-1] = np.conj(f[1:Np+1])\n",
    "    return np.fft.ifft(f).real\n",
    "\n",
    "def band_limited_noise(min_freq, max_freq, samples=1024, samplerate=1e6):\n",
    "    freqs = np.abs(np.fft.fftfreq(samples, 1/samplerate))\n",
    "    f = np.zeros(samples)\n",
    "    idx = np.where(np.logical_and(freqs>=min_freq, freqs<=max_freq))[0]\n",
    "    f[idx] = 1\n",
    "    return fftnoise(f)"
   ]
  },
  {
   "cell_type": "code",
   "execution_count": 9,
   "id": "lovely-sleeve",
   "metadata": {},
   "outputs": [],
   "source": [
    "sample_rate = 20e6 # Hz\n",
    "center_freq = 2449.5e6 # Hz\n",
    "\n",
    "sdr = adi.Pluto(\"ip:192.168.2.1\")\n",
    "sdr.sample_rate = int(sample_rate)\n",
    "sdr.tx_rf_bandwidth = int(sample_rate) # filter cutoff, just set it to the same as sample rate\n",
    "sdr.tx_lo = int(center_freq)\n",
    "sdr.tx_buffer_size = 1024\n",
    "sdr.tx_hardwaregain_chan0 = 0 # Increase to increase tx power, valid range is -90 to 0 dB"
   ]
  },
  {
   "cell_type": "code",
   "execution_count": 11,
   "id": "dependent-divide",
   "metadata": {},
   "outputs": [],
   "source": [
    "# N = 10000 # number of samples to transmit at once\n",
    "# t = np.arange(N)/sample_rate\n",
    "# samples = 0.5*np.exp(2.0j*np.pi*100e3*t) # Simulate a sinusoid of 100 kHz, so it should show up at 915.1 MHz at the receiver\n",
    "# win = signal.firwin(3, [0.1,0.2], pass_zero=False)\n",
    "# x = np.linspace(-10,10,N)\n",
    "# samples = np.sinc(x)\n",
    "# samples = np.convolve(np.random.normal(0,1,10000),win)\n",
    "samples = np.random.normal(0,1,1024) + 1j*np.random.normal(0,1,1024)\n",
    "samples = np.convolve(samples,np.hamming(len(samples)))\n",
    "samples *= 2**14 # The\n",
    "\n",
    "# Transmit our batch of samples 100 times, so it should be 1 second worth of samples total, if USB can keep up\n",
    "sdr.tx_cyclic_buffer = True  \n",
    "sdr.tx(samples) # transmit the batch of samples once"
   ]
  },
  {
   "cell_type": "code",
   "execution_count": 12,
   "id": "smart-stamp",
   "metadata": {},
   "outputs": [],
   "source": [
    "sdr.tx_destroy_buffer()"
   ]
  },
  {
   "cell_type": "code",
   "execution_count": 62,
   "id": "separated-beaver",
   "metadata": {},
   "outputs": [
    {
     "data": {
      "text/plain": [
       "Pluto(uri=\"ip:192.168.2.1\") object \"PlutoSDR\" with following key properties:\n",
       "\n",
       "rx_lo:                   899.999998   MHz, Carrier frequency of RX path\n",
       "rx_hardwaregain_chan0    0            dB, Gain applied to RX path. Only applicable when gain_control_mode is set to 'manual'\n",
       "rx_rf_bandwidth:         1.0          MHz, Bandwidth of front-end analog filter of RX path\n",
       "gain_control_mode_chan0: manual       Receive path AGC Options: slow_attack, fast_attack, manual\n",
       "\n",
       "tx_lo:                   100.299998   MHz, Carrier frequency of TX path\n",
       "tx_hardwaregain_chan0:   0            dB, Attenuation applied to TX path\n",
       "tx_rf_bandwidth:         0.525        MHz, Bandwidth of front-end analog filter of TX path\n",
       "tx_cyclic_buffer:        0            Toggles cyclic buffer\n",
       "\n",
       "filter:                  [128.0, 4.0, 128.0, 4.0] FIR filter file\n",
       "sample_rate:             0.524999     MSPS, Sample rate RX and TX paths\n",
       "loopback:                0            0=Disabled, 1=Digital, 2=RF\n"
      ]
     },
     "execution_count": 62,
     "metadata": {},
     "output_type": "execute_result"
    }
   ],
   "source": [
    "sdr"
   ]
  },
  {
   "cell_type": "code",
   "execution_count": 30,
   "id": "reserved-ultimate",
   "metadata": {},
   "outputs": [
    {
     "data": {
      "text/plain": [
       "[<matplotlib.lines.Line2D at 0xa9bfaa90>]"
      ]
     },
     "execution_count": 30,
     "metadata": {},
     "output_type": "execute_result"
    },
    {
     "data": {
      "image/png": "[encoded data removed]",
      "text/plain": [
       "<Figure size 432x288 with 1 Axes>"
      ]
     },
     "metadata": {
      "needs_background": "light"
     },
     "output_type": "display_data"
    }
   ],
   "source": [
    "import matplotlib.pyplot as plt\n",
    "\n",
    "x  = np.linspace(-10,10,100)\n",
    "y1 = np.sinc(x)\n",
    "y = np.convolve(np.sinc(x), np.hamming(10))\n",
    "plt.plot(y1)"
   ]
  },
  {
   "cell_type": "code",
   "execution_count": 29,
   "id": "opponent-syndication",
   "metadata": {},
   "outputs": [
    {
     "data": {
      "text/plain": [
       "<function matplotlib.pyplot.show(*args, **kw)>"
      ]
     },
     "execution_count": 29,
     "metadata": {},
     "output_type": "execute_result"
    },
    {
     "data": {
      "image/png": "[encoded data removed]",
      "text/plain": [
       "<Figure size 432x288 with 1 Axes>"
      ]
     },
     "metadata": {
      "needs_background": "light"
     },
     "output_type": "display_data"
    }
   ],
   "source": [
    "plt.plot(np.fft.fftshift(np.abs(np.fft.fft(y))))\n",
    "plt.show"
   ]
  },
  {
   "cell_type": "code",
   "execution_count": null,
   "id": "supreme-clear",
   "metadata": {},
   "outputs": [],
   "source": []
  }
 ],
 "metadata": {
  "kernelspec": {
   "display_name": "SDRenv",
   "language": "python",
   "name": "sdrenv"
  },
  "language_info": {
   "codemirror_mode": {
    "name": "ipython",
    "version": 3
   },
   "file_extension": ".py",
   "mimetype": "text/x-python",
   "name": "python",
   "nbconvert_exporter": "python",
   "pygments_lexer": "ipython3",
   "version": "3.7.3"
  }
 },
 "nbformat": 4,
 "nbformat_minor": 5
}
