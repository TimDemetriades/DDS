{
 "cells": [
  {
   "cell_type": "code",
   "execution_count": 31,
   "metadata": {},
   "outputs": [],
   "source": [
    "import numpy as np\n",
    "import adi\n",
    "import matplotlib\n",
    "import matplotlib.pyplot as plt\n",
    "from IPython.display import clear_output, display"
   ]
  },
  {
   "cell_type": "code",
   "execution_count": 44,
   "metadata": {},
   "outputs": [],
   "source": [
    "sdr = adi.Pluto()\n",
    "sdr.rx_lo = int(2.4305e9)\n",
    "sdr.rx_rf_bandwidth = int(56e6)\n",
    "sdr.sample_rate = int(40e6)\n",
    "sdr.rx_buffer_size = 1024\n",
    "\n",
    "sdr.tx_rf_bandwidth = int(10e6) # filter cutoff, just set it to the same as sample rate\n",
    "sdr.tx_lo = int(2.4095e9)\n",
    "sdr.tx_buffer_size = 1024\n",
    "sdr.tx_hardwaregain_chan0 = 0"
   ]
  },
  {
   "cell_type": "code",
   "execution_count": 41,
   "metadata": {},
   "outputs": [
    {
     "data": {
      "text/plain": [
       "Pluto(uri=\"\") object \"PlutoSDR\" with following key properties:\n",
       "\n",
       "rx_lo:                   2430.499998  MHz, Carrier frequency of RX path\n",
       "rx_hardwaregain_chan0    0            dB, Gain applied to RX path. Only applicable when gain_control_mode is set to 'manual'\n",
       "rx_rf_bandwidth:         56.0         MHz, Bandwidth of front-end analog filter of RX path\n",
       "gain_control_mode_chan0: manual       Receive path AGC Options: slow_attack, fast_attack, manual\n",
       "\n",
       "tx_lo:                   2454.05      MHz, Carrier frequency of TX path\n",
       "tx_hardwaregain_chan0:   0            dB, Attenuation applied to TX path\n",
       "tx_rf_bandwidth:         40.0         MHz, Bandwidth of front-end analog filter of TX path\n",
       "tx_cyclic_buffer:        0            Toggles cyclic buffer\n",
       "\n",
       "filter:                  [128.0, 2.0, 128.0, 2.0] FIR filter file\n",
       "sample_rate:             40.0         MSPS, Sample rate RX and TX paths\n",
       "loopback:                0            0=Disabled, 1=Digital, 2=RF\n"
      ]
     },
     "execution_count": 41,
     "metadata": {},
     "output_type": "execute_result"
    }
   ],
   "source": [
    "sdr"
   ]
  },
  {
   "cell_type": "code",
   "execution_count": 34,
   "metadata": {},
   "outputs": [
    {
     "name": "stdout",
     "output_type": "stream",
     "text": [
      "RX Buffer Size 1024\n",
      "RX Gain 41\n",
      "TX Gain 0\n"
     ]
    }
   ],
   "source": [
    "print(\"RX Buffer Size\", sdr.rx_buffer_size)\n",
    "print(\"RX Gain\", sdr.rx_hardwaregain_chan0)\n",
    "print(\"TX Gain\", sdr.tx_hardwaregain_chan0)"
   ]
  },
  {
   "cell_type": "code",
   "execution_count": 35,
   "metadata": {
    "tags": []
   },
   "outputs": [],
   "source": [
    "def FFT(samples, buf, samprate, lo):\n",
    "    fft = np.fft.fftshift(np.fft.fft(samples)) / buf\n",
    "    freqLabels = np.fft.fftshift(np.fft.fftfreq(buf, 1/samprate)) + lo\n",
    "    fft_mag_dB = 10*np.log10(np.abs(fft))\n",
    "#     fft_mag = np.abs(fft)\n",
    "    return fft_mag_dB, freqLabels\n",
    "\n",
    "def MA(data):\n",
    "    N = 10\n",
    "    w = np.ones(N) / N\n",
    "    ma = np.convolve(data, w, mode='same')\n",
    "    return(ma)\n",
    "\n",
    "def findSigPts(boolarray):\n",
    "    a = boolarray^np.concatenate(([False],boolarray[:-1]))\n",
    "    return(abs(a))\n",
    "\n",
    "def findBWs(sigpts):\n",
    "    freqs = np.zeros([len(sigpts)-1,2])\n",
    "    freqs[:,0] = sigpts[1:]\n",
    "    freqs[:,1] = sigpts[:-1]\n",
    "    BWs = (sigpts[1:]-sigpts[:-1])/1e6\n",
    "    return BWs, freqs\n",
    "\n",
    "def findSigSec(boolarray):\n",
    "    SigSections = []\n",
    "    for i in range(1,len(boolarray)):\n",
    "        if boolarray[i-1]:\n",
    "            if i == 1:\n",
    "                SigSections.append(1)\n",
    "            if not boolarray[i]:\n",
    "                SigSections.append(0)\n",
    "        elif not boolarray[i-1]:\n",
    "            if boolarray[i]:\n",
    "                SigSections.append(1)\n",
    "\n",
    "    return np.array(SigSections[:-1]).astype(np.bool)\n",
    "\n",
    "def txsdr(samples):\n",
    "#     samples = np.random.normal(0,1,1024) + 1j*np.random.normal(0,1,1024)\n",
    "#     samples = np.convolve(samples,np.hamming(len(samples)))\n",
    "#     samples *= 2**14 # The\n",
    "\n",
    "# Transmit our batch of samples 100 times, so it should be 1 second worth of samples total, if USB can keep up\n",
    "    sdr.tx_cyclic_buffer =  True\n",
    "    sdr.tx(samples) # transmit the batch of samples once\n",
    "    "
   ]
  },
  {
   "cell_type": "code",
   "execution_count": 38,
   "metadata": {
    "tags": []
   },
   "outputs": [
    {
     "name": "stdout",
     "output_type": "stream",
     "text": [
      "Drone Located at 2439195465.2029705\n",
      "Number of Guesses: 101\n"
     ]
    },
    {
     "ename": "KeyboardInterrupt",
     "evalue": "",
     "output_type": "error",
     "traceback": [
      "\u001b[0;31m---------------------------------------------------------------------------\u001b[0m",
      "\u001b[0;31mKeyboardInterrupt\u001b[0m                         Traceback (most recent call last)",
      "\u001b[0;32m<ipython-input-38-bac7741a2ab7>\u001b[0m in \u001b[0;36m<module>\u001b[0;34m\u001b[0m\n\u001b[1;32m      7\u001b[0m     \u001b[0;32mfor\u001b[0m \u001b[0mi\u001b[0m \u001b[0;32min\u001b[0m \u001b[0mrange\u001b[0m\u001b[0;34m(\u001b[0m\u001b[0;36m500\u001b[0m\u001b[0;34m)\u001b[0m\u001b[0;34m:\u001b[0m\u001b[0;34m\u001b[0m\u001b[0;34m\u001b[0m\u001b[0m\n\u001b[1;32m      8\u001b[0m         \u001b[0msamples\u001b[0m \u001b[0;34m=\u001b[0m \u001b[0msdr\u001b[0m\u001b[0;34m.\u001b[0m\u001b[0mrx\u001b[0m\u001b[0;34m(\u001b[0m\u001b[0;34m)\u001b[0m\u001b[0;34m\u001b[0m\u001b[0;34m\u001b[0m\u001b[0m\n\u001b[0;32m----> 9\u001b[0;31m         \u001b[0mdroneFreqData\u001b[0m\u001b[0;34m,\u001b[0m \u001b[0mdroneFreqLabels\u001b[0m \u001b[0;34m=\u001b[0m \u001b[0mFFT\u001b[0m\u001b[0;34m(\u001b[0m\u001b[0msdr\u001b[0m\u001b[0;34m.\u001b[0m\u001b[0mrx\u001b[0m\u001b[0;34m(\u001b[0m\u001b[0;34m)\u001b[0m\u001b[0;34m,\u001b[0m \u001b[0msdr\u001b[0m\u001b[0;34m.\u001b[0m\u001b[0mrx_buffer_size\u001b[0m\u001b[0;34m,\u001b[0m \u001b[0msdr\u001b[0m\u001b[0;34m.\u001b[0m\u001b[0msample_rate\u001b[0m\u001b[0;34m,\u001b[0m \u001b[0msdr\u001b[0m\u001b[0;34m.\u001b[0m\u001b[0mrx_lo\u001b[0m\u001b[0;34m)\u001b[0m\u001b[0;34m\u001b[0m\u001b[0;34m\u001b[0m\u001b[0m\n\u001b[0m\u001b[1;32m     10\u001b[0m \u001b[0;34m\u001b[0m\u001b[0m\n\u001b[1;32m     11\u001b[0m         \u001b[0mfreq_ndb\u001b[0m \u001b[0;34m=\u001b[0m \u001b[0;36m10\u001b[0m\u001b[0;34m**\u001b[0m\u001b[0;34m(\u001b[0m\u001b[0mdroneFreqData\u001b[0m\u001b[0;34m/\u001b[0m\u001b[0;36m10\u001b[0m\u001b[0;34m)\u001b[0m\u001b[0;34m\u001b[0m\u001b[0;34m\u001b[0m\u001b[0m\n",
      "\u001b[0;32m~/PlutoSDR/SDRenv/lib/python3.7/site-packages/pyadi_iio-0.0.8-py3.7.egg/adi/rx_tx.py\u001b[0m in \u001b[0;36mrx\u001b[0;34m(self)\u001b[0m\n\u001b[1;32m    250\u001b[0m         \u001b[0;32melse\u001b[0m\u001b[0;34m:\u001b[0m\u001b[0;34m\u001b[0m\u001b[0;34m\u001b[0m\u001b[0m\n\u001b[1;32m    251\u001b[0m             \u001b[0;32mif\u001b[0m \u001b[0mself\u001b[0m\u001b[0;34m.\u001b[0m\u001b[0m_complex_data\u001b[0m\u001b[0;34m:\u001b[0m\u001b[0;34m\u001b[0m\u001b[0;34m\u001b[0m\u001b[0m\n\u001b[0;32m--> 252\u001b[0;31m                 \u001b[0;32mreturn\u001b[0m \u001b[0mself\u001b[0m\u001b[0;34m.\u001b[0m\u001b[0m__rx_complex\u001b[0m\u001b[0;34m(\u001b[0m\u001b[0;34m)\u001b[0m\u001b[0;34m\u001b[0m\u001b[0;34m\u001b[0m\u001b[0m\n\u001b[0m\u001b[1;32m    253\u001b[0m             \u001b[0;32melse\u001b[0m\u001b[0;34m:\u001b[0m\u001b[0;34m\u001b[0m\u001b[0;34m\u001b[0m\u001b[0m\n\u001b[1;32m    254\u001b[0m                 \u001b[0;32mreturn\u001b[0m \u001b[0mself\u001b[0m\u001b[0;34m.\u001b[0m\u001b[0m__rx_non_complex\u001b[0m\u001b[0;34m(\u001b[0m\u001b[0;34m)\u001b[0m\u001b[0;34m\u001b[0m\u001b[0;34m\u001b[0m\u001b[0m\n",
      "\u001b[0;32m~/PlutoSDR/SDRenv/lib/python3.7/site-packages/pyadi_iio-0.0.8-py3.7.egg/adi/rx_tx.py\u001b[0m in \u001b[0;36m__rx_complex\u001b[0;34m(self)\u001b[0m\n\u001b[1;32m    172\u001b[0m         \u001b[0;32mif\u001b[0m \u001b[0;32mnot\u001b[0m \u001b[0mself\u001b[0m\u001b[0;34m.\u001b[0m\u001b[0m__rxbuf\u001b[0m\u001b[0;34m:\u001b[0m\u001b[0;34m\u001b[0m\u001b[0;34m\u001b[0m\u001b[0m\n\u001b[1;32m    173\u001b[0m             \u001b[0mself\u001b[0m\u001b[0;34m.\u001b[0m\u001b[0m_rx_init_channels\u001b[0m\u001b[0;34m(\u001b[0m\u001b[0;34m)\u001b[0m\u001b[0;34m\u001b[0m\u001b[0;34m\u001b[0m\u001b[0m\n\u001b[0;32m--> 174\u001b[0;31m         \u001b[0mself\u001b[0m\u001b[0;34m.\u001b[0m\u001b[0m__rxbuf\u001b[0m\u001b[0;34m.\u001b[0m\u001b[0mrefill\u001b[0m\u001b[0;34m(\u001b[0m\u001b[0;34m)\u001b[0m\u001b[0;34m\u001b[0m\u001b[0;34m\u001b[0m\u001b[0m\n\u001b[0m\u001b[1;32m    175\u001b[0m         \u001b[0mdata\u001b[0m \u001b[0;34m=\u001b[0m \u001b[0mself\u001b[0m\u001b[0;34m.\u001b[0m\u001b[0m__rxbuf\u001b[0m\u001b[0;34m.\u001b[0m\u001b[0mread\u001b[0m\u001b[0;34m(\u001b[0m\u001b[0;34m)\u001b[0m\u001b[0;34m\u001b[0m\u001b[0;34m\u001b[0m\u001b[0m\n\u001b[1;32m    176\u001b[0m         \u001b[0mx\u001b[0m \u001b[0;34m=\u001b[0m \u001b[0mnp\u001b[0m\u001b[0;34m.\u001b[0m\u001b[0mfrombuffer\u001b[0m\u001b[0;34m(\u001b[0m\u001b[0mdata\u001b[0m\u001b[0;34m,\u001b[0m \u001b[0mdtype\u001b[0m\u001b[0;34m=\u001b[0m\u001b[0mself\u001b[0m\u001b[0;34m.\u001b[0m\u001b[0m_rx_data_type\u001b[0m\u001b[0;34m)\u001b[0m\u001b[0;34m\u001b[0m\u001b[0;34m\u001b[0m\u001b[0m\n",
      "\u001b[0;32m~/PlutoSDR/SDRenv/lib/python3.7/site-packages/iio.py\u001b[0m in \u001b[0;36mrefill\u001b[0;34m(self)\u001b[0m\n\u001b[1;32m   1029\u001b[0m     \u001b[0;32mdef\u001b[0m \u001b[0mrefill\u001b[0m\u001b[0;34m(\u001b[0m\u001b[0mself\u001b[0m\u001b[0;34m)\u001b[0m\u001b[0;34m:\u001b[0m\u001b[0;34m\u001b[0m\u001b[0;34m\u001b[0m\u001b[0m\n\u001b[1;32m   1030\u001b[0m         \u001b[0;34m\"\"\"Fetch a new set of samples from the hardware.\"\"\"\u001b[0m\u001b[0;34m\u001b[0m\u001b[0;34m\u001b[0m\u001b[0m\n\u001b[0;32m-> 1031\u001b[0;31m         \u001b[0m_buffer_refill\u001b[0m\u001b[0;34m(\u001b[0m\u001b[0mself\u001b[0m\u001b[0;34m.\u001b[0m\u001b[0m_buffer\u001b[0m\u001b[0;34m)\u001b[0m\u001b[0;34m\u001b[0m\u001b[0;34m\u001b[0m\u001b[0m\n\u001b[0m\u001b[1;32m   1032\u001b[0m \u001b[0;34m\u001b[0m\u001b[0m\n\u001b[1;32m   1033\u001b[0m     \u001b[0;32mdef\u001b[0m \u001b[0mpush\u001b[0m\u001b[0;34m(\u001b[0m\u001b[0mself\u001b[0m\u001b[0;34m,\u001b[0m \u001b[0msamples_count\u001b[0m\u001b[0;34m=\u001b[0m\u001b[0;32mNone\u001b[0m\u001b[0;34m)\u001b[0m\u001b[0;34m:\u001b[0m\u001b[0;34m\u001b[0m\u001b[0;34m\u001b[0m\u001b[0m\n",
      "\u001b[0;32m~/PlutoSDR/SDRenv/lib/python3.7/site-packages/iio.py\u001b[0m in \u001b[0;36m_check_negative\u001b[0;34m(result, func, arguments)\u001b[0m\n\u001b[1;32m     65\u001b[0m \u001b[0;34m\u001b[0m\u001b[0m\n\u001b[1;32m     66\u001b[0m \u001b[0;34m\u001b[0m\u001b[0m\n\u001b[0;32m---> 67\u001b[0;31m \u001b[0;32mdef\u001b[0m \u001b[0m_check_negative\u001b[0m\u001b[0;34m(\u001b[0m\u001b[0mresult\u001b[0m\u001b[0;34m,\u001b[0m \u001b[0mfunc\u001b[0m\u001b[0;34m,\u001b[0m \u001b[0marguments\u001b[0m\u001b[0;34m)\u001b[0m\u001b[0;34m:\u001b[0m\u001b[0;34m\u001b[0m\u001b[0;34m\u001b[0m\u001b[0m\n\u001b[0m\u001b[1;32m     68\u001b[0m     \u001b[0;32mif\u001b[0m \u001b[0mresult\u001b[0m \u001b[0;34m>=\u001b[0m \u001b[0;36m0\u001b[0m\u001b[0;34m:\u001b[0m\u001b[0;34m\u001b[0m\u001b[0;34m\u001b[0m\u001b[0m\n\u001b[1;32m     69\u001b[0m         \u001b[0;32mreturn\u001b[0m \u001b[0mresult\u001b[0m\u001b[0;34m\u001b[0m\u001b[0;34m\u001b[0m\u001b[0m\n",
      "\u001b[0;31mKeyboardInterrupt\u001b[0m: "
     ]
    }
   ],
   "source": [
    "from time import sleep\n",
    "sigBWs = np.zeros(1)\n",
    "samples = None\n",
    "while (True):\n",
    "    ct = 0\n",
    "    guess = 0\n",
    "    for i in range(500):\n",
    "        samples = sdr.rx()\n",
    "        droneFreqData, droneFreqLabels = FFT(sdr.rx(), sdr.rx_buffer_size, sdr.sample_rate, sdr.rx_lo)\n",
    "\n",
    "        freq_ndb = 10**(droneFreqData/10)\n",
    "        freq_ma = MA(droneFreqData)\n",
    "        freq_ma_ndb = MA(freq_ndb)\n",
    "        ma_thresh = freq_ndb.mean()*1.6\n",
    "\n",
    "        if (np.sum(freq_ma_ndb > ma_thresh) > 0):\n",
    "            BWs, freqRgs= findBWs(droneFreqLabels[findSigPts(freq_ma_ndb > ma_thresh)])\n",
    "            sigSec = findSigSec(freq_ma_ndb > ma_thresh)\n",
    "            sigBWs = BWs[sigSec][(BWs[sigSec] > 9) & (BWs[sigSec] < 12)]\n",
    "            drone_sig_range = freqRgs[sigSec][(BWs[sigSec] > 9) & (BWs[sigSec] < 12)]\n",
    "\n",
    "        if sigBWs.size >= 1:\n",
    "            ct += 1\n",
    "            guess += (drone_sig_range[0,0]-drone_sig_range[0,1])/2 + drone_sig_range[0,1]\n",
    "    #         clear_output(wait=True)\n",
    "    #         print(f\"Drone BW: {sigBWs}\" )\n",
    "    #         print(f\"Drone Freq: {drone_sig_range}\")\n",
    "    #         print(f\"Drone Center Freq: {(drone_sig_range[0,0]-drone_sig_range[0,1])/2+sdr.rx_lo}\")\n",
    "\n",
    "    clear_output(wait=True)\n",
    "    if ct > 60:\n",
    "        print(f\"Drone Located at {guess/ct}\")\n",
    "        \n",
    "    print(f\"Number of Guesses: {ct}\")\n",
    "#     sleep(1)"
   ]
  },
  {
   "cell_type": "raw",
   "metadata": {},
   "source": [
    "drone_sig_range"
   ]
  },
  {
   "cell_type": "code",
   "execution_count": 39,
   "metadata": {},
   "outputs": [
    {
     "data": {
      "text/plain": [
       "array([-999.-100.j,   73.-511.j,  390. -31.j, ..., -347.-732.j,\n",
       "        249.-791.j,  280.-128.j])"
      ]
     },
     "execution_count": 39,
     "metadata": {},
     "output_type": "execute_result"
    }
   ],
   "source": [
    "samples"
   ]
  },
  {
   "cell_type": "code",
   "execution_count": 47,
   "metadata": {},
   "outputs": [],
   "source": [
    "sdr.tx_cyclic_buffer = True\n",
    "sdr.tx(samples)"
   ]
  },
  {
   "cell_type": "code",
   "execution_count": 48,
   "metadata": {},
   "outputs": [],
   "source": [
    "sdr.tx_destroy_buffer()"
   ]
  },
  {
   "cell_type": "code",
   "execution_count": null,
   "metadata": {},
   "outputs": [],
   "source": []
  }
 ],
 "metadata": {
  "kernelspec": {
   "display_name": "SDRenv",
   "language": "python",
   "name": "sdrenv"
  },
  "language_info": {
   "codemirror_mode": {
    "name": "ipython",
    "version": 3
   },
   "file_extension": ".py",
   "mimetype": "text/x-python",
   "name": "python",
   "nbconvert_exporter": "python",
   "pygments_lexer": "ipython3",
   "version": "3.7.3"
  },
  "widgets": {
   "application/vnd.jupyter.widget-state+json": {
    "state": {},
    "version_major": 2,
    "version_minor": 0
   }
  }
 },
 "nbformat": 4,
 "nbformat_minor": 4
}
