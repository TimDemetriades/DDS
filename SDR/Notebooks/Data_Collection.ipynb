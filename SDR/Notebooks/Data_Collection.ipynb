{
 "cells": [
  {
   "cell_type": "code",
   "execution_count": 1,
   "id": "challenging-providence",
   "metadata": {},
   "outputs": [],
   "source": [
    "import adi\n",
    "import numpy as np\n",
    "from datetime import datetime"
   ]
  },
  {
   "cell_type": "code",
   "execution_count": 2,
   "id": "announced-enzyme",
   "metadata": {},
   "outputs": [],
   "source": [
    "FileName = datetime.now().strftime(\"../IQ_Cap/Drone-%m-%d-%Y_%H%M%S\")"
   ]
  },
  {
   "cell_type": "raw",
   "id": "tender-phrase",
   "metadata": {},
   "source": [
    "FileName = datetime.now().strftime(\"../IQ_Cap/%m-%d-%Y_%H%M%S\")"
   ]
  },
  {
   "cell_type": "code",
   "execution_count": 3,
   "id": "hazardous-addiction",
   "metadata": {},
   "outputs": [],
   "source": [
    "sdr = adi.Pluto()\n",
    "sdr.rx_lo = int(2.4275e9)\n",
    "sdr.rx_rf_bandwidth = int(56e6)\n",
    "sdr.sample_rate = int(40e6)\n",
    "sdr.rx_buffer_size = 1024"
   ]
  },
  {
   "cell_type": "code",
   "execution_count": 4,
   "id": "dying-conducting",
   "metadata": {},
   "outputs": [
    {
     "data": {
      "text/plain": [
       "Pluto(uri=\"\") object \"PlutoSDR\" with following key properties:\n",
       "\n",
       "rx_lo:                   2427.499998  MHz, Carrier frequency of RX path\n",
       "rx_hardwaregain_chan0    24           dB, Gain applied to RX path. Only applicable when gain_control_mode is set to 'manual'\n",
       "rx_rf_bandwidth:         56.0         MHz, Bandwidth of front-end analog filter of RX path\n",
       "gain_control_mode_chan0: slow_attack  Receive path AGC Options: slow_attack, fast_attack, manual\n",
       "\n",
       "tx_lo:                   2423.999988  MHz, Carrier frequency of TX path\n",
       "tx_hardwaregain_chan0:   -10          dB, Attenuation applied to TX path\n",
       "tx_rf_bandwidth:         18.0         MHz, Bandwidth of front-end analog filter of TX path\n",
       "tx_cyclic_buffer:        0            Toggles cyclic buffer\n",
       "\n",
       "filter:                  [128.0, 2.0, 128.0, 2.0] FIR filter file\n",
       "sample_rate:             40.0         MSPS, Sample rate RX and TX paths\n",
       "loopback:                0            0=Disabled, 1=Digital, 2=RF\n"
      ]
     },
     "execution_count": 4,
     "metadata": {},
     "output_type": "execute_result"
    }
   ],
   "source": [
    "sdr"
   ]
  },
  {
   "cell_type": "code",
   "execution_count": 5,
   "id": "compressed-tractor",
   "metadata": {},
   "outputs": [
    {
     "name": "stdout",
     "output_type": "stream",
     "text": [
      "RX Buffer Size 1024\n",
      "RX Gain 26\n",
      "TX Gain -10\n"
     ]
    }
   ],
   "source": [
    "print(\"RX Buffer Size\", sdr.rx_buffer_size)\n",
    "print(\"RX Gain\", sdr.rx_hardwaregain_chan0)\n",
    "print(\"TX Gain\", sdr.tx_hardwaregain_chan0)"
   ]
  },
  {
   "cell_type": "code",
   "execution_count": 6,
   "id": "progressive-option",
   "metadata": {},
   "outputs": [],
   "source": [
    "with open(FileName+'.txt', 'w') as f:\n",
    "    f.write(\n",
    "f'''LO: {sdr.rx_lo}\n",
    "BW: {sdr.rx_rf_bandwidth}\n",
    "Sample Rate: {sdr.sample_rate}\n",
    "Buffer Size: {sdr.rx_buffer_size}\n",
    "Drone BW: 10Mhz\n",
    "Drone Center Freq: 2.4275'''\n",
    "    )\n",
    "    f.close()"
   ]
  },
  {
   "cell_type": "raw",
   "id": "actual-destiny",
   "metadata": {},
   "source": [
    "with open(FileName+'.txt', 'w') as f:\n",
    "    f.write(\n",
    "f'''LO: {sdr.rx_lo}\n",
    "BW: {sdr.rx_rf_bandwidth}\n",
    "Sample Rate: {sdr.sample_rate}\n",
    "Buffer Size: {sdr.rx_buffer_size}'''\n",
    "    )\n",
    "    f.close()"
   ]
  },
  {
   "cell_type": "code",
   "execution_count": 7,
   "id": "living-vanilla",
   "metadata": {},
   "outputs": [],
   "source": [
    "with open(FileName+'.iq', 'a') as f:\n",
    "    for i in range(1000):\n",
    "        samples = sdr.rx().astype(np.complex64)\n",
    "        samples.tofile(f)\n",
    "    f.close()"
   ]
  },
  {
   "cell_type": "code",
   "execution_count": null,
   "id": "decreased-luxury",
   "metadata": {},
   "outputs": [],
   "source": [
    "a = (np.fromfile(FileName + '.iq'))"
   ]
  },
  {
   "cell_type": "code",
   "execution_count": null,
   "id": "another-vatican",
   "metadata": {},
   "outputs": [],
   "source": [
    "_, b = np.unique(a, return_counts=True)"
   ]
  },
  {
   "cell_type": "code",
   "execution_count": null,
   "id": "phantom-flush",
   "metadata": {},
   "outputs": [],
   "source": [
    "b.sum()"
   ]
  }
 ],
 "metadata": {
  "kernelspec": {
   "display_name": "SDRenv",
   "language": "python",
   "name": "sdrenv"
  },
  "language_info": {
   "codemirror_mode": {
    "name": "ipython",
    "version": 3
   },
   "file_extension": ".py",
   "mimetype": "text/x-python",
   "name": "python",
   "nbconvert_exporter": "python",
   "pygments_lexer": "ipython3",
   "version": "3.7.3"
  }
 },
 "nbformat": 4,
 "nbformat_minor": 5
}
