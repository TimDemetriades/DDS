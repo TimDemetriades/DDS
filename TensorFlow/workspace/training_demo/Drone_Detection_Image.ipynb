{
 "cells": [
  {
   "cell_type": "markdown",
   "id": "binding-saudi",
   "metadata": {},
   "source": [
    "# Tensorflow Object Detection for Drone\n",
    "## Detect Drone with Image using OpenCV\n",
    "### Setup paths and directories"
   ]
  },
  {
   "cell_type": "code",
   "execution_count": 2,
   "id": "religious-expression",
   "metadata": {},
   "outputs": [],
   "source": [
    "import os\n",
    "os.environ['TF_CPP_MIN_LOG_LEVEL'] = '2'    # suppress TF logging\n",
    "import pathlib\n",
    "import tensorflow as tf\n",
    "\n",
    "tf.get_logger().setLevel('ERROR')           # suppress TF logging"
   ]
  },
  {
   "cell_type": "code",
   "execution_count": 3,
   "id": "introductory-pastor",
   "metadata": {},
   "outputs": [],
   "source": [
    "# Enable GPU dynamic memory allocation\n",
    "gpus = tf.config.experimental.list_physical_devices('GPU')\n",
    "for gpu in gpus:\n",
    "    tf.config.experimental.set_memory_growth(gpu, True)"
   ]
  },
  {
   "cell_type": "code",
   "execution_count": 17,
   "id": "turkish-owner",
   "metadata": {},
   "outputs": [],
   "source": [
    "IMAGE_PATHS = ('C:/Users/timjr/.keras/datasets/Drone1.jpg', 'C:/Users/timjr/.keras/datasets/Drone2.jpg', 'C:/Users/timjr/.keras/datasets/Drone3.jpg')"
   ]
  },
  {
   "cell_type": "markdown",
   "id": "boxed-canvas",
   "metadata": {},
   "source": [
    "### Download the Labels\n",
    "The next step is to download the labels file (`.pbtxt`) which contains a list of strings used to add the correct label to each detection (like a person). Since the pre-trained model we will use has been trained on the COCO (Common Object in Context) dataset, we will need to download the labels file corresponding to this dataset, named `mscoco_label_map.pbtxt`."
   ]
  },
  {
   "cell_type": "code",
   "execution_count": 9,
   "id": "independent-nurse",
   "metadata": {},
   "outputs": [],
   "source": [
    "PATH_TO_LABELS = 'C:/Users/timjr/Documents/TensorFlow/workspace/training_demo/exported-models/my_ssd_mobilenet_v2_fpnlite/drone_label_map.pbtxt'"
   ]
  },
  {
   "cell_type": "markdown",
   "id": "lasting-constant",
   "metadata": {},
   "source": [
    "### Load the Model\n",
    "Next, we will load the downloaded model."
   ]
  },
  {
   "cell_type": "code",
   "execution_count": 10,
   "id": "efficient-treaty",
   "metadata": {},
   "outputs": [],
   "source": [
    "import time\n",
    "from object_detection.utils import label_map_util\n",
    "from object_detection.utils import visualization_utils as viz_utils"
   ]
  },
  {
   "cell_type": "code",
   "execution_count": 11,
   "id": "presidential-diagnosis",
   "metadata": {},
   "outputs": [
    {
     "name": "stdout",
     "output_type": "stream",
     "text": [
      "Loading model...Done! Loading model took 9.0 seconds.\n"
     ]
    }
   ],
   "source": [
    "PATH_TO_SAVED_MODEL = 'C:/Users/timjr/Documents/TensorFlow/workspace/training_demo/exported-models/my_ssd_mobilenet_v2_fpnlite/saved_model'\n",
    "\n",
    "print('Loading model...', end='')\n",
    "start_time = time.time()\n",
    "\n",
    "# Load saved model and build detection function\n",
    "detect_fn = tf.saved_model.load(PATH_TO_SAVED_MODEL)\n",
    "\n",
    "end_time = time.time()\n",
    "elapsed_time = end_time - start_time\n",
    "print(f'Done! Loading model took {elapsed_time:.2} seconds.')"
   ]
  },
  {
   "cell_type": "markdown",
   "id": "radio-syracuse",
   "metadata": {},
   "source": [
    "### Load Label Map Data (For Plotting)\n",
    "Label maps correspond index numbers to category names, so that when our convolution network predicts 5, we know that this corresponds to airplane. Here we use internal utility functions, but anything that returns a dictionary mapping integers to appropriate string labels would be fine."
   ]
  },
  {
   "cell_type": "code",
   "execution_count": 12,
   "id": "fatty-harbor",
   "metadata": {},
   "outputs": [],
   "source": [
    "category_index = label_map_util.create_category_index_from_labelmap(PATH_TO_LABELS,\n",
    "                                                                    use_display_name=True)"
   ]
  },
  {
   "cell_type": "code",
   "execution_count": 13,
   "id": "turned-drunk",
   "metadata": {},
   "outputs": [
    {
     "data": {
      "text/plain": [
       "{1: {'id': 1, 'name': 'Drone'}}"
      ]
     },
     "execution_count": 13,
     "metadata": {},
     "output_type": "execute_result"
    }
   ],
   "source": [
    "category_index"
   ]
  },
  {
   "cell_type": "markdown",
   "id": "spread-literature",
   "metadata": {},
   "source": [
    "### Putting Everything Together\n",
    "Finally we will load an image, run it through the detection model, and visualize the detection results, including the keypoints.\n",
    "\n",
    "Note - This will take a long time (several minutes) the first time it is run due to `tf.function`'s trace-compilation.\n",
    "\n",
    "Some things to try:\n",
    "- Modify some of the input images and see if detection still works. Some simple things to try out here (just uncomment the relevant portions of code) include flipping the image horizontally, or converting to grayscale (note that we still expect the input image to have 3 channels).\n",
    "- Print out detections[‘detection_boxes’] and try to match the box locations to the boxes in the image. Notice that coordinates are given in normalized form (i.e., in the interval [0, 1]).\n",
    "- Set `min_score_thresh` to other values (between 0 and 1) to allow more detections in or to filter out more detections."
   ]
  },
  {
   "cell_type": "code",
   "execution_count": 14,
   "id": "binding-turkish",
   "metadata": {},
   "outputs": [],
   "source": [
    "import numpy as np\n",
    "from PIL import Image    # Pillow (Python image library)\n",
    "import matplotlib.pyplot as plt\n",
    "import warnings\n",
    "\n",
    "warnings.filterwarnings('ignore')    # Suprress Matplotlib warnings"
   ]
  },
  {
   "cell_type": "code",
   "execution_count": 15,
   "id": "qualified-mediterranean",
   "metadata": {},
   "outputs": [],
   "source": [
    "def load_image_into_numpy_array(path):\n",
    "    \"\"\"Load an image from file into a numpy array.\n",
    "\n",
    "    Puts image into numpy array to feed into tensorflow graph.\n",
    "    Note that by convention we put it into a numpy array with shape\n",
    "    (height, width, channels), where channels=3 for RGB.\n",
    "\n",
    "    Args:\n",
    "      path: the file path to the image\n",
    "\n",
    "    Returns:\n",
    "      uint8 numpy array with shape (img_height, img_width, 3)\n",
    "    \"\"\"\n",
    "    return np.array(Image.open(path))"
   ]
  },
  {
   "cell_type": "code",
   "execution_count": 21,
   "id": "severe-patio",
   "metadata": {},
   "outputs": [
    {
     "name": "stdout",
     "output_type": "stream",
     "text": [
      "Using matplotlib backend: Qt5Agg\n",
      "Running inference for C:/Users/timjr/.keras/datasets/Drone1.jpg... Done\n",
      "Running inference for C:/Users/timjr/.keras/datasets/Drone2.jpg... Done\n",
      "Running inference for C:/Users/timjr/.keras/datasets/Drone3.jpg... Done\n"
     ]
    }
   ],
   "source": [
    "%matplotlib\n",
    "for image_path in IMAGE_PATHS:\n",
    "    print(f'Running inference for {image_path}... ', end='')\n",
    "    \n",
    "    image_np = load_image_into_numpy_array(image_path)\n",
    "    \n",
    "    # Things to try:\n",
    "    # Flip horizontally\n",
    "    # image_np = np.fliplr(image_np).copy()\n",
    "\n",
    "    # Convert image to grayscale\n",
    "    # image_np = np.tile(\n",
    "    #     np.mean(image_np, 2, keepdims=True), (1, 1, 3)).astype(np.uint8)\n",
    "    \n",
    "    # The input needs to be a tensor, convert it using 'tf.conver_to_tensor'.\n",
    "    input_tensor = tf.convert_to_tensor(image_np)\n",
    "    \n",
    "    # The model expects a batch of images, so add an axis with 'tf.newaxis'.\n",
    "    input_tensor = input_tensor[tf.newaxis, ...]\n",
    "    \n",
    "    # input_tensor = np.expand_dims(image_np, 0)\n",
    "    detections = detect_fn(input_tensor)\n",
    "    \n",
    "    # All outputs are batches tensors\n",
    "    # Convert to numpy arrays and take index [0] to remove the batch dimension\n",
    "    # We're only interested in the first num_detections\n",
    "    num_detections = int(detections.pop('num_detections'))\n",
    "    detections = {key: value[0, :num_detections].numpy()\n",
    "                   for key, value in detections.items()}\n",
    "    detections['num_detections'] = num_detections\n",
    "    \n",
    "    # detection_classes should be ints \n",
    "    detections['detection_classes'] = detections['detection_classes'].astype(np.int64)\n",
    "    \n",
    "    image_np_with_detections = image_np.copy()\n",
    "    \n",
    "    viz_utils.visualize_boxes_and_labels_on_image_array(\n",
    "          image_np_with_detections,\n",
    "          detections['detection_boxes'],\n",
    "          detections['detection_classes'],\n",
    "          detections['detection_scores'],\n",
    "          category_index,\n",
    "          use_normalized_coordinates=True,\n",
    "          max_boxes_to_draw=200,\n",
    "          min_score_thresh=.30,\n",
    "          agnostic_mode=False)\n",
    "    \n",
    "    plt.figure()\n",
    "    plt.imshow(image_np_with_detections)\n",
    "    print('Done')\n",
    "plt.show()\n",
    "\n",
    "# sphinx_gallery_thumbnail_number = 2"
   ]
  }
 ],
 "metadata": {
  "kernelspec": {
   "display_name": "Python 3",
   "language": "python",
   "name": "python3"
  },
  "language_info": {
   "codemirror_mode": {
    "name": "ipython",
    "version": 3
   },
   "file_extension": ".py",
   "mimetype": "text/x-python",
   "name": "python",
   "nbconvert_exporter": "python",
   "pygments_lexer": "ipython3",
   "version": "3.7.10"
  }
 },
 "nbformat": 4,
 "nbformat_minor": 5
}
