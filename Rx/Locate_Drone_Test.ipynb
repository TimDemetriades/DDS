{
 "cells": [
  {
   "cell_type": "code",
   "execution_count": 1,
   "metadata": {},
   "outputs": [],
   "source": [
    "import numpy as np\n",
    "import adi\n",
    "import matplotlib\n",
    "import matplotlib.pyplot as plt\n",
    "from IPython.display import clear_output, display"
   ]
  },
  {
   "cell_type": "code",
   "execution_count": 2,
   "metadata": {},
   "outputs": [],
   "source": [
    "sdr = adi.Pluto()\n",
    "sdr.rx_lo = int(2.4385e9)\n",
    "sdr.rx_rf_bandwidth = int(56e6)\n",
    "sdr.sample_rate = int(40e6)\n",
    "sdr.rx_buffer_size = 1024"
   ]
  },
  {
   "cell_type": "code",
   "execution_count": 3,
   "metadata": {},
   "outputs": [
    {
     "data": {
      "text/plain": [
       "Pluto(uri=\"\") object \"PlutoSDR\" with following key properties:\n",
       "\n",
       "rx_lo:                   2438.5       MHz, Carrier frequency of RX path\n",
       "rx_hardwaregain_chan0    16           dB, Gain applied to RX path. Only applicable when gain_control_mode is set to 'manual'\n",
       "rx_rf_bandwidth:         56.0         MHz, Bandwidth of front-end analog filter of RX path\n",
       "gain_control_mode_chan0: slow_attack  Receive path AGC Options: slow_attack, fast_attack, manual\n",
       "\n",
       "tx_lo:                   2450.0       MHz, Carrier frequency of TX path\n",
       "tx_hardwaregain_chan0:   -10          dB, Attenuation applied to TX path\n",
       "tx_rf_bandwidth:         18.0         MHz, Bandwidth of front-end analog filter of TX path\n",
       "tx_cyclic_buffer:        0            Toggles cyclic buffer\n",
       "\n",
       "filter:                  [128.0, 2.0, 128.0, 2.0] FIR filter file\n",
       "sample_rate:             40.0         MSPS, Sample rate RX and TX paths\n",
       "loopback:                0            0=Disabled, 1=Digital, 2=RF\n"
      ]
     },
     "execution_count": 3,
     "metadata": {},
     "output_type": "execute_result"
    }
   ],
   "source": [
    "sdr"
   ]
  },
  {
   "cell_type": "code",
   "execution_count": 4,
   "metadata": {},
   "outputs": [
    {
     "name": "stdout",
     "output_type": "stream",
     "text": [
      "RX Buffer Size 1024\n",
      "RX Gain 14\n",
      "TX Gain -10\n"
     ]
    }
   ],
   "source": [
    "print(\"RX Buffer Size\", sdr.rx_buffer_size)\n",
    "print(\"RX Gain\", sdr.rx_hardwaregain_chan0)\n",
    "print(\"TX Gain\", sdr.tx_hardwaregain_chan0)"
   ]
  },
  {
   "cell_type": "code",
   "execution_count": 5,
   "metadata": {
    "tags": []
   },
   "outputs": [],
   "source": [
    "def FFT(samples, buf, samprate, lo):\n",
    "    fft = np.fft.fftshift(np.fft.fft(samples)) / buf\n",
    "    freqLabels = np.fft.fftshift(np.fft.fftfreq(buf, 1/samprate)) + lo\n",
    "    fft_mag_dB = 10*np.log10(np.abs(fft))\n",
    "#     fft_mag = np.abs(fft)\n",
    "    return fft_mag_dB, freqLabels\n",
    "\n",
    "def MA(data):\n",
    "    N = 10\n",
    "    w = np.ones(N) / N\n",
    "    ma = np.convolve(data, w, mode='same')\n",
    "    return(ma)\n",
    "\n",
    "def findSigPts(boolarray):\n",
    "    a = boolarray^np.concatenate(([False],boolarray[:-1]))\n",
    "    return(abs(a))\n",
    "\n",
    "def findBWs(sigpts):\n",
    "    freqs = np.zeros([len(sigpts)-1,2])\n",
    "    freqs[:,0] = sigpts[1:]\n",
    "    freqs[:,1] = sigpts[:-1]\n",
    "    BWs = (sigpts[1:]-sigpts[:-1])/1e6\n",
    "    return BWs, freqs\n",
    "\n",
    "def findSigSec(boolarray):\n",
    "    SigSections = []\n",
    "    for i in range(1,len(boolarray)):\n",
    "        if boolarray[i-1]:\n",
    "            if i == 1:\n",
    "                SigSections.append(1)\n",
    "            if not boolarray[i]:\n",
    "                SigSections.append(0)\n",
    "        elif not boolarray[i-1]:\n",
    "            if boolarray[i]:\n",
    "                SigSections.append(1)\n",
    "\n",
    "    return np.array(SigSections[:-1]).astype(np.bool)"
   ]
  },
  {
   "cell_type": "code",
   "execution_count": null,
   "metadata": {
    "tags": []
   },
   "outputs": [
    {
     "name": "stdout",
     "output_type": "stream",
     "text": [
      "Drone Located at 2439549262.1527777\n",
      "Number of Guesses: 72\n"
     ]
    }
   ],
   "source": [
    "from time import sleep\n",
    "\n",
    "while (True):\n",
    "    ct = 0\n",
    "    guess = 0\n",
    "    for i in range(500):\n",
    "\n",
    "        droneFreqData, droneFreqLabels = FFT(sdr.rx(), sdr.rx_buffer_size, sdr.sample_rate, sdr.rx_lo)\n",
    "\n",
    "        freq_ndb = 10**(droneFreqData/10)\n",
    "        freq_ma = MA(droneFreqData)\n",
    "        freq_ma_ndb = MA(freq_ndb)\n",
    "        ma_thresh = freq_ndb.mean()*1.6\n",
    "\n",
    "        if (np.sum(freq_ma_ndb > ma_thresh) > 0):\n",
    "            BWs, freqRgs= findBWs(droneFreqLabels[findSigPts(freq_ma_ndb > ma_thresh)])\n",
    "            sigSec = findSigSec(freq_ma_ndb > ma_thresh)\n",
    "            sigBWs = BWs[sigSec][(BWs[sigSec] > 9) & (BWs[sigSec] < 12)]\n",
    "            drone_sig_range = freqRgs[sigSec][(BWs[sigSec] > 9) & (BWs[sigSec] < 12)]\n",
    "\n",
    "        if sigBWs.size == 1:\n",
    "            ct += 1\n",
    "            guess += (drone_sig_range[0,0]-drone_sig_range[0,1])/2 + drone_sig_range[0,1]\n",
    "    #         clear_output(wait=True)\n",
    "    #         print(f\"Drone BW: {sigBWs}\" )\n",
    "    #         print(f\"Drone Freq: {drone_sig_range}\")\n",
    "    #         print(f\"Drone Center Freq: {(drone_sig_range[0,0]-drone_sig_range[0,1])/2+sdr.rx_lo}\")\n",
    "\n",
    "    clear_output(wait=True)\n",
    "    if ct > 0:\n",
    "        print(f\"Drone Located at {guess/ct}\")\n",
    "    print(f\"Number of Guesses: {ct}\")\n",
    "#     sleep(1)"
   ]
  },
  {
   "cell_type": "code",
   "execution_count": null,
   "metadata": {},
   "outputs": [],
   "source": []
  },
  {
   "cell_type": "raw",
   "metadata": {},
   "source": [
    "drone_sig_range"
   ]
  },
  {
   "cell_type": "code",
   "execution_count": null,
   "metadata": {},
   "outputs": [],
   "source": []
  }
 ],
 "metadata": {
  "kernelspec": {
   "display_name": "SDRenv",
   "language": "python",
   "name": "sdrenv"
  },
  "language_info": {
   "codemirror_mode": {
    "name": "ipython",
    "version": 3
   },
   "file_extension": ".py",
   "mimetype": "text/x-python",
   "name": "python",
   "nbconvert_exporter": "python",
   "pygments_lexer": "ipython3",
   "version": "3.7.3"
  },
  "widgets": {
   "application/vnd.jupyter.widget-state+json": {
    "state": {},
    "version_major": 2,
    "version_minor": 0
   }
  }
 },
 "nbformat": 4,
 "nbformat_minor": 4
}
