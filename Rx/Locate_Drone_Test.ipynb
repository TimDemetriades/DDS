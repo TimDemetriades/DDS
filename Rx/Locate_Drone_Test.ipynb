{
 "cells": [
  {
   "cell_type": "code",
   "execution_count": 1,
   "metadata": {},
   "outputs": [
    {
     "ename": "ModuleNotFoundError",
     "evalue": "No module named 'adi'",
     "output_type": "error",
     "traceback": [
      "\u001b[0;31m---------------------------------------------------------------------------\u001b[0m",
      "\u001b[0;31mModuleNotFoundError\u001b[0m                       Traceback (most recent call last)",
      "\u001b[0;32m<ipython-input-1-19d0778f8cae>\u001b[0m in \u001b[0;36m<module>\u001b[0;34m\u001b[0m\n\u001b[1;32m      1\u001b[0m \u001b[0;32mimport\u001b[0m \u001b[0mnumpy\u001b[0m \u001b[0;32mas\u001b[0m \u001b[0mnp\u001b[0m\u001b[0;34m\u001b[0m\u001b[0;34m\u001b[0m\u001b[0m\n\u001b[0;32m----> 2\u001b[0;31m \u001b[0;32mimport\u001b[0m \u001b[0madi\u001b[0m\u001b[0;34m\u001b[0m\u001b[0;34m\u001b[0m\u001b[0m\n\u001b[0m\u001b[1;32m      3\u001b[0m \u001b[0;32mimport\u001b[0m \u001b[0mmatplotlib\u001b[0m\u001b[0;34m\u001b[0m\u001b[0;34m\u001b[0m\u001b[0m\n\u001b[1;32m      4\u001b[0m \u001b[0;32mimport\u001b[0m \u001b[0mmatplotlib\u001b[0m\u001b[0;34m.\u001b[0m\u001b[0mpyplot\u001b[0m \u001b[0;32mas\u001b[0m \u001b[0mplt\u001b[0m\u001b[0;34m\u001b[0m\u001b[0;34m\u001b[0m\u001b[0m\n\u001b[1;32m      5\u001b[0m \u001b[0mget_ipython\u001b[0m\u001b[0;34m(\u001b[0m\u001b[0;34m)\u001b[0m\u001b[0;34m.\u001b[0m\u001b[0mrun_line_magic\u001b[0m\u001b[0;34m(\u001b[0m\u001b[0;34m'matplotlib'\u001b[0m\u001b[0;34m,\u001b[0m \u001b[0;34m'inline'\u001b[0m\u001b[0;34m)\u001b[0m\u001b[0;34m\u001b[0m\u001b[0;34m\u001b[0m\u001b[0m\n",
      "\u001b[0;31mModuleNotFoundError\u001b[0m: No module named 'adi'"
     ]
    }
   ],
   "source": [
    "import numpy as np\n",
    "import adi\n",
    "import matplotlib\n",
    "import matplotlib.pyplot as plt"
   ]
  },
  {
   "cell_type": "code",
   "execution_count": 35,
   "metadata": {},
   "outputs": [],
   "source": [
    "sdr = adi.Pluto()\n",
    "sdr.rx_lo = int(2.4405e9)\n",
    "sdr.rx_rf_bandwidth = int(56e6)\n",
    "sdr.sample_rate = int(40e6)\n",
    "sdr.rx_buffer_size = 1024"
   ]
  },
  {
   "cell_type": "code",
   "execution_count": 36,
   "metadata": {},
   "outputs": [
    {
     "data": {
      "text/plain": [
       "Pluto(uri=\"\") object \"PlutoSDR\" with following key properties:\n",
       "\n",
       "rx_lo:                   2440.5       MHz, Carrier frequency of RX path\n",
       "rx_hardwaregain_chan0    53           dB, Gain applied to RX path. Only applicable when gain_control_mode is set to 'manual'\n",
       "rx_rf_bandwidth:         56.0         MHz, Bandwidth of front-end analog filter of RX path\n",
       "gain_control_mode_chan0: slow_attack  Receive path AGC Options: slow_attack, fast_attack, manual\n",
       "\n",
       "tx_lo:                   2450.0       MHz, Carrier frequency of TX path\n",
       "tx_hardwaregain_chan0:   -10          dB, Attenuation applied to TX path\n",
       "tx_rf_bandwidth:         18.0         MHz, Bandwidth of front-end analog filter of TX path\n",
       "tx_cyclic_buffer:        0            Toggles cyclic buffer\n",
       "\n",
       "filter:                  [128.0, 2.0, 128.0, 2.0] FIR filter file\n",
       "sample_rate:             40.0         MSPS, Sample rate RX and TX paths\n",
       "loopback:                0            0=Disabled, 1=Digital, 2=RF\n"
      ]
     },
     "execution_count": 36,
     "metadata": {},
     "output_type": "execute_result"
    }
   ],
   "source": [
    "sdr"
   ]
  },
  {
   "cell_type": "code",
   "execution_count": 37,
   "metadata": {},
   "outputs": [
    {
     "name": "stdout",
     "output_type": "stream",
     "text": [
      "RX Buffer Size 1024\n",
      "RX Gain 30\n",
      "TX Gain -10\n"
     ]
    }
   ],
   "source": [
    "print(\"RX Buffer Size\", sdr.rx_buffer_size)\n",
    "print(\"RX Gain\", sdr.rx_hardwaregain_chan0)\n",
    "print(\"TX Gain\", sdr.tx_hardwaregain_chan0)"
   ]
  },
  {
   "cell_type": "code",
   "execution_count": 35,
   "metadata": {
    "tags": []
   },
   "outputs": [],
   "source": [
    "def FFT(samples, buf, samprate, lo):\n",
    "    fft = np.fft.fftshift(np.fft.fft(samples)) / buf\n",
    "    freqLabels = np.fft.fftshift(np.fft.fftfreq(buf, 1/samprate)) + lo\n",
    "    fft_mag_dB = 10*np.log10(np.abs(fft))\n",
    "#     fft_mag = np.abs(fft)\n",
    "    return fft_mag_dB, freqLabels\n",
    "\n",
    "def MA(data):\n",
    "    N = 10\n",
    "    w = np.ones(N) / N\n",
    "    ma = np.convolve(data, w, mode='same')\n",
    "    return(ma)\n",
    "\n",
    "def findSigPts(boolarray):\n",
    "    a = boolarray^np.concatenate(([False],boolarray[:-1]))\n",
    "    return(abs(a))\n",
    "\n",
    "def findBWs(sigpts):\n",
    "    freqs = np.zeros([len(sigpts)-1,2])\n",
    "    freqs[:,0] = sigpts[1:]\n",
    "    freqs[:,1] = sigpts[:-1]\n",
    "    BWs = (sigpts[1:]-sigpts[:-1])/1e6\n",
    "    return BWs, freqs\n",
    "\n",
    "def findSigSec(boolarray):\n",
    "    SigSections = []\n",
    "    for i in range(1,len(boolarray)):\n",
    "        if boolarray[i-1]:\n",
    "            if i == 1:\n",
    "                SigSections.append(1)\n",
    "            if not boolarray[i]:\n",
    "                SigSections.append(0)\n",
    "        elif not boolarray[i-1]:\n",
    "            if boolarray[i]:\n",
    "                SigSections.append(1)\n",
    "\n",
    "    return np.array(SigSections[:-1]).astype(np.bool)"
   ]
  }
 ],
 "metadata": {
  "kernelspec": {
   "display_name": "CPE646",
   "language": "python",
   "name": "cpe646"
  },
  "language_info": {
   "codemirror_mode": {
    "name": "ipython",
    "version": 3
   },
   "file_extension": ".py",
   "mimetype": "text/x-python",
   "name": "python",
   "nbconvert_exporter": "python",
   "pygments_lexer": "ipython3",
   "version": "3.7.7"
  },
  "widgets": {
   "application/vnd.jupyter.widget-state+json": {
    "state": {},
    "version_major": 2,
    "version_minor": 0
   }
  }
 },
 "nbformat": 4,
 "nbformat_minor": 4
}
