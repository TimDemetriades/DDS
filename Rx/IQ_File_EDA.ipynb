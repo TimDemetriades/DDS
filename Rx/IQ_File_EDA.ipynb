{
 "cells": [
  {
   "cell_type": "code",
   "execution_count": 38,
   "metadata": {},
   "outputs": [],
   "source": [
    "import numpy as np\n",
    "import matplotlib.pyplot as plt\n",
    "from matplotlib.widgets import Button\n",
    "%matplotlib qt"
   ]
  },
  {
   "cell_type": "code",
   "execution_count": 39,
   "metadata": {},
   "outputs": [],
   "source": [
    "file = '../IQ_Cap/03-17-2021_150003'\n",
    "Dfile = '../IQ_Cap/Drone-03-17-2021_153631'\n",
    "NumSamp = 1024\n",
    "\n",
    "samples = np.fromfile(file + '.iq', np.complex64)\n",
    "drone_samp = np.fromfile(Dfile + '.iq', np.complex64)"
   ]
  },
  {
   "cell_type": "code",
   "execution_count": 40,
   "metadata": {},
   "outputs": [],
   "source": [
    "params = dict()\n",
    "with open(file + '.txt') as f:\n",
    "    split = [a.strip('\\n').split(': ') for a in f.readlines()]\n",
    "    for i in split:\n",
    "        params[i[0]] = int(i[1])    \n",
    "    f.close()"
   ]
  },
  {
   "cell_type": "code",
   "execution_count": 41,
   "metadata": {},
   "outputs": [],
   "source": [
    "Dparams = dict()\n",
    "with open(Dfile + '.txt') as f:\n",
    "    split = [a.strip('\\n').split(': ') for a in f.readlines()]\n",
    "    for i in split:\n",
    "        Dparams[i[0]] = int(i[1]) if 'Drone' not in i[0] else i[1]\n",
    "    f.close()"
   ]
  },
  {
   "cell_type": "code",
   "execution_count": 42,
   "metadata": {},
   "outputs": [
    {
     "data": {
      "text/plain": [
       "{'LO': 2440500000,\n",
       " 'BW': 56000000,\n",
       " 'Sample Rate': 40000000,\n",
       " 'Buffer Size': 1024}"
      ]
     },
     "execution_count": 42,
     "metadata": {},
     "output_type": "execute_result"
    }
   ],
   "source": [
    "params"
   ]
  },
  {
   "cell_type": "code",
   "execution_count": 43,
   "metadata": {},
   "outputs": [
    {
     "data": {
      "text/plain": [
       "{'LO': 2440500000,\n",
       " 'BW': 56000000,\n",
       " 'Sample Rate': 40000000,\n",
       " 'Buffer Size': 1024,\n",
       " 'Drone BW': '10Mhz',\n",
       " 'Drone Center Freq': '2.4405'}"
      ]
     },
     "execution_count": 43,
     "metadata": {},
     "output_type": "execute_result"
    }
   ],
   "source": [
    "Dparams"
   ]
  },
  {
   "cell_type": "code",
   "execution_count": 44,
   "metadata": {},
   "outputs": [],
   "source": [
    "samp_range = np.arange(0,NumSamp) #+ params['Buffer Size']*3"
   ]
  },
  {
   "cell_type": "code",
   "execution_count": 45,
   "metadata": {},
   "outputs": [
    {
     "data": {
      "text/plain": [
       "1024000"
      ]
     },
     "execution_count": 45,
     "metadata": {},
     "output_type": "execute_result"
    }
   ],
   "source": [
    "len(samples)"
   ]
  },
  {
   "cell_type": "code",
   "execution_count": 35,
   "metadata": {
    "tags": []
   },
   "outputs": [],
   "source": [
    "def FFT(samples, buf, samprate, lo):\n",
    "    fft = np.fft.fftshift(np.fft.fft(samples)) / buf\n",
    "    freqLabels = np.fft.fftshift(np.fft.fftfreq(buf, 1/samprate)) + lo\n",
    "    fft_mag_dB = 10*np.log10(np.abs(fft))\n",
    "#     fft_mag = np.abs(fft)\n",
    "    return fft_mag_dB, freqLabels\n",
    "\n",
    "def MA(data):\n",
    "    N = 10\n",
    "    w = np.ones(N) / N\n",
    "    ma = np.convolve(data, w, mode='same')\n",
    "    return(ma)\n",
    "\n",
    "def findSigPts(boolarray):\n",
    "    a = boolarray^np.concatenate(([False],boolarray[:-1]))\n",
    "    return(abs(a))\n",
    "\n",
    "def findBWs(sigpts):\n",
    "    freqs = np.zeros([len(sigpts)-1,2])\n",
    "    freqs[:,0] = sigpts[1:]\n",
    "    freqs[:,1] = sigpts[:-1]\n",
    "    BWs = (sigpts[1:]-sigpts[:-1])/1e6\n",
    "    return BWs, freqs\n",
    "\n",
    "def findSigSec(boolarray):\n",
    "    SigSections = []\n",
    "    for i in range(1,len(boolarray)):\n",
    "        if boolarray[i-1]:\n",
    "            if i == 1:\n",
    "                SigSections.append(1)\n",
    "            if not boolarray[i]:\n",
    "                SigSections.append(0)\n",
    "        elif not boolarray[i-1]:\n",
    "            if boolarray[i]:\n",
    "                SigSections.append(1)\n",
    "\n",
    "    return np.array(SigSections[:-1]).astype(np.bool)"
   ]
  },
  {
   "cell_type": "code",
   "execution_count": 36,
   "metadata": {},
   "outputs": [],
   "source": [
    "freqData, freqLabels = FFT(samples[samp_range], NumSamp, params['Sample Rate'], params['LO'])\n",
    "droneFreqData, droneFreqLabels = FFT(drone_samp[samp_range], NumSamp, Dparams['Sample Rate'], Dparams['LO'])\n",
    "\n",
    "freq_ndb = 10**(droneFreqData/10)\n",
    "freq_ma = MA(droneFreqData)\n",
    "freq_ma_ndb = MA(freq_ndb)\n",
    "ma_thresh = freq_ndb.mean()\n",
    "\n",
    "BWs, freqRgs= findBWs(droneFreqLabels[findSigPts(freq_ma_ndb > ma_thresh)])\n",
    "sigSec = findSigSec(freq_ma_ndb > ma_thresh)\n",
    "sigBWs = BWs[sigSec][(BWs[sigSec] > 9) & (BWs[sigSec] < 11)]\n",
    "drone_sig_range = freqRgs[sigSec][(BWs[sigSec] > 9) & (BWs[sigSec] < 11)]"
   ]
  },
  {
   "cell_type": "code",
   "execution_count": 37,
   "metadata": {
    "tags": []
   },
   "outputs": [
    {
     "data": {
      "text/plain": [
       "0"
      ]
     },
     "execution_count": 37,
     "metadata": {},
     "output_type": "execute_result"
    }
   ],
   "source": [
    "timeData = dict()\n",
    "timeData['I'] = np.real(samples[samp_range])\n",
    "timeData['Q'] = np.imag(samples[samp_range])\n",
    "\n",
    "droneTimeData = dict()\n",
    "droneTimeData['I'] = np.real(drone_samp[samp_range])\n",
    "droneTimeData['Q'] = np.imag(drone_samp[samp_range])\n",
    "\n",
    "fig = plt.figure(figsize=(15,10))\n",
    "plt.subplot(2,2,1)\n",
    "plt.title('Nominal Time Domain')\n",
    "plt.xlabel('Samples')\n",
    "plt.ylabel('Amplitude')\n",
    "Nti, = plt.plot(timeData['I'], label='I')\n",
    "Ntq, = plt.plot(timeData['Q'], label='Q')\n",
    "plt.subplot(2,2,2)\n",
    "plt.title('Drone Time Domain')\n",
    "plt.xlabel('Samples')\n",
    "plt.ylabel('Amplitude')\n",
    "Dti, = plt.plot(droneTimeData['I'], label='I')\n",
    "Dtq, = plt.plot(droneTimeData['Q'], label='Q')\n",
    "plt.subplot(2,2,3)\n",
    "plt.title('Nominal Frequency Domain')\n",
    "plt.xlabel('Frequency')\n",
    "plt.ylabel('Magnitude')\n",
    "Nf, = plt.plot(freqLabels, freqData, label='Nominal')\n",
    "sp = plt.subplot(2,2,4)\n",
    "plt.title('Drone Frequency Domain')\n",
    "plt.xlabel('Frequency')\n",
    "plt.ylabel('Magnitude')\n",
    "Df, = plt.plot(droneFreqLabels, droneFreqData, label='Drone Present')\n",
    "Mf, = plt.plot(droneFreqLabels[freq_ma_ndb > ma_thresh],freq_ma[freq_ma_ndb > ma_thresh])\n",
    "\n",
    "fig.text(.3,.95,f\"LO: {params['LO']} | Buffer: {params['Buffer Size']} | Sample Rate: {params['Sample Rate']}\" , fontsize=12)\n",
    "fig.text(.3,.92,f\"RF Bandwidth: {params['BW']} | Drone Bandwidth: {Dparams['Drone BW']} | Drone Center Frequency: {Dparams['Drone Center Freq']}\", fontsize=12)\n",
    "\n",
    "\n",
    "text = fig.text(.85,.935,f\"Samples: {samp_range[0]} to {params['Buffer Size']}\", fontsize=10)\n",
    "d_text = fig.text(.55,.045,f\"Drone Signal Range: {drone_sig_range} GHz\", fontsize=10)\n",
    "# s_text = fig.text(.15,.025,f\"Significant Points: {droneFreqLabels[findSigPts(freq_ma_ndb>ma_thresh)]}\", fontsize=10)\n",
    "b_text = fig.text(.55,.025,f\"Bandwidths: {sigBWs}\", fontsize=10)\n",
    "\n",
    "\n",
    "\n",
    "class Index():\n",
    "    ind = 0\n",
    "\n",
    "    def next(self, event):\n",
    "        self.ind += NumSamp\n",
    "        i = self.ind % len(samples)//NumSamp\n",
    "        \n",
    "        Ntupi = np.real(samples[samp_range + params['Buffer Size']*i])\n",
    "        Ntupq = np.imag(samples[samp_range + params['Buffer Size']*i])\n",
    "        \n",
    "        Dtupi = np.real(drone_samp[samp_range + params['Buffer Size']*i])\n",
    "        Dtupq = np.imag(drone_samp[samp_range + params['Buffer Size']*i])\n",
    "        \n",
    "        freqData, freqLabels = FFT(samples[samp_range + params['Buffer Size']*i], NumSamp, params['Sample Rate'], params['LO'])\n",
    "        droneFreqData, droneFreqLabels = FFT(drone_samp[samp_range + params['Buffer Size']*i], NumSamp, Dparams['Sample Rate'], Dparams['LO'])\n",
    "        freq_ndb = 10**(droneFreqData/10)\n",
    "        freq_ma = MA(droneFreqData)\n",
    "        freq_ma_ndb = MA(freq_ndb)\n",
    "        ma_thresh = freq_ndb.mean()\n",
    "       \n",
    "        BWs, freqRgs= findBWs(droneFreqLabels[findSigPts(freq_ma_ndb > ma_thresh)])\n",
    "        sigSec = findSigSec(freq_ma_ndb > ma_thresh)\n",
    "        sigBWs = BWs[sigSec][(BWs[sigSec] > 9) & (BWs[sigSec] < 11)]\n",
    "        drone_sig_range = freqRgs[sigSec][(BWs[sigSec] > 9) & (BWs[sigSec] < 11)]  \n",
    "        \n",
    "        Nti.set_ydata(Ntupi)\n",
    "        Ntq.set_ydata(Ntupq)\n",
    "        \n",
    "        Dti.set_ydata(Ntupi)\n",
    "        Dtq.set_ydata(Ntupq)\n",
    "\n",
    "        Nf.set_xdata(freqLabels)\n",
    "        Nf.set_ydata(freqData)\n",
    "        Df.set_xdata(droneFreqLabels)\n",
    "        Df.set_ydata(droneFreqData)\n",
    "        Mf.set_xdata(droneFreqLabels[freq_ma_ndb > ma_thresh])\n",
    "        Mf.set_ydata(freq_ma[freq_ma_ndb > ma_thresh])\n",
    "        \n",
    "        \n",
    "        \n",
    "        \n",
    "        #print(\"Next!\")\n",
    "        \n",
    "        text.set_text(f\"Samples: {samp_range[0] + params['Buffer Size']*i} to {samp_range[-1] + params['Buffer Size']*i}\")\n",
    "        d_text.set_text(f\"Drone Signal Range: {drone_sig_range} GHz\")\n",
    "#         s_text.set_text(f\"Significant Points: {droneFreqLabels[findSigPts(freq_ma_ndb>ma_thresh)]}\")\n",
    "        b_text.set_text(f\"Bandwidths: {sigBWs}\")\n",
    "\n",
    "\n",
    "        plt.draw()\n",
    "\n",
    "    def prev(self, event):\n",
    "        self.ind -= NumSamp\n",
    "        i = self.ind % len(samples)//NumSamp\n",
    "        \n",
    "        Ntupi = np.real(samples[samp_range + params['Buffer Size']*i])\n",
    "        Ntupq = np.imag(samples[samp_range + params['Buffer Size']*i])\n",
    "        \n",
    "        Dtupi = np.real(drone_samp[samp_range + params['Buffer Size']*i])\n",
    "        Dtupq = np.imag(drone_samp[samp_range + params['Buffer Size']*i])\n",
    "        \n",
    "        freqData, freqLabels = FFT(samples[samp_range + params['Buffer Size']*i], NumSamp, params['Sample Rate'], params['LO'])\n",
    "        droneFreqData, droneFreqLabels = FFT(drone_samp[samp_range + params['Buffer Size']*i], NumSamp, Dparams['Sample Rate'], Dparams['LO'])\n",
    "        freq_ndb = 10**(droneFreqData/10)\n",
    "        freq_ma = MA(droneFreqData)\n",
    "        freq_ma_ndb = MA(freq_ndb)\n",
    "        ma_thresh = freq_ndb.mean()\n",
    "\n",
    "        BWs, freqRgs= findBWs(droneFreqLabels[findSigPts(freq_ma_ndb > ma_thresh)])\n",
    "        sigSec = findSigSec(freq_ma_ndb > ma_thresh)\n",
    "        sigBWs = BWs[sigSec][(BWs[sigSec] > 9) & (BWs[sigSec] < 11)]\n",
    "        drone_sig_range = freqRgs[sigSec][(BWs[sigSec] > 9) & (BWs[sigSec] < 11)]  \n",
    "\n",
    "        \n",
    "        Nti.set_ydata(Ntupi)\n",
    "        Ntq.set_ydata(Ntupq)\n",
    "        \n",
    "        Dti.set_ydata(Ntupi)\n",
    "        Dtq.set_ydata(Ntupq)\n",
    "\n",
    "        Nf.set_xdata(freqLabels)\n",
    "        Nf.set_ydata(freqData)\n",
    "        Df.set_xdata(droneFreqLabels)\n",
    "        Df.set_ydata(droneFreqData)\n",
    "        Mf.set_xdata(droneFreqLabels[freq_ma_ndb > ma_thresh])\n",
    "        Mf.set_ydata(freq_ma[freq_ma_ndb > ma_thresh])\n",
    "        \n",
    "        \n",
    "        #print(\"Prev!\")\n",
    "        \n",
    "        text.set_text(f\"Samples: {samp_range[0] + params['Buffer Size']*i} to {samp_range[-1] + params['Buffer Size']*i}\")\n",
    "        d_text.set_text(f\"Drone Signal Range: {drone_sig_range} GHz\")\n",
    "#         s_text.set_text(f\"Significant Points: {droneFreqLabels[findSigPts(freq_ma_ndb>ma_thresh)]}\")\n",
    "        b_text.set_text(f\"Bandwidths: {sigBWs}\")\n",
    "\n",
    "        \n",
    "        plt.draw()\n",
    "\n",
    "callback = Index()\n",
    "axprev = plt.axes([0.9, 0.43, 0.1, 0.075])\n",
    "axnext = plt.axes([0.9, 0.53, 0.1, 0.075])\n",
    "bnext = Button(axnext, 'Next')\n",
    "bnext.on_clicked(callback.next)\n",
    "bprev = Button(axprev, 'Previous')\n",
    "bprev.on_clicked(callback.prev)"
   ]
  },
  {
   "cell_type": "code",
   "execution_count": 18,
   "metadata": {
    "jupyter": {
     "source_hidden": true
    }
   },
   "outputs": [],
   "source": [
    "mvAvg = []\n",
    "for i in droneFreqData:\n",
    "    i\n",
    "\n",
    "plt.figure()\n",
    "plt.plot(droneFreqLabels, droneFreqData, label='Drone Present')\n",
    "plt.show()"
   ]
  },
  {
   "cell_type": "raw",
   "metadata": {},
   "source": [
    "freqData, freqLabels = FFT(drone_samp[5119:5119+1024], NumSamp, params['Sample Rate'], params['LO'])"
   ]
  },
  {
   "cell_type": "raw",
   "metadata": {},
   "source": [
    "plt.figure()\n",
    "plt.plot(10**(freqData/10))"
   ]
  },
  {
   "cell_type": "raw",
   "metadata": {},
   "source": [
    "plt.figure()\n",
    "plt.plot((freqData))"
   ]
  },
  {
   "cell_type": "raw",
   "metadata": {},
   "source": [
    "freq_ma = MA(freqData)\n",
    "plt.figure()\n",
    "plt.plot(freqLabels,freq_ma)\n",
    "\n",
    "\n",
    "freq_ma_ndb = MA(10**(freqData/10))\n",
    "ma_thresh = (10**(freqData/10)).mean()\n",
    "plt.plot(freqLabels[freq_ma_ndb>ma_thresh], freq_ma[freq_ma_ndb>ma_thresh])"
   ]
  }
 ],
 "metadata": {
  "kernelspec": {
   "display_name": "CPE646",
   "language": "python",
   "name": "cpe646"
  },
  "language_info": {
   "codemirror_mode": {
    "name": "ipython",
    "version": 3
   },
   "file_extension": ".py",
   "mimetype": "text/x-python",
   "name": "python",
   "nbconvert_exporter": "python",
   "pygments_lexer": "ipython3",
   "version": "3.7.7"
  },
  "widgets": {
   "application/vnd.jupyter.widget-state+json": {
    "state": {},
    "version_major": 2,
    "version_minor": 0
   }
  }
 },
 "nbformat": 4,
 "nbformat_minor": 5
}
