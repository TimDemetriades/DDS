{
 "cells": [
  {
   "cell_type": "code",
   "execution_count": 4,
   "id": "deadly-arrival",
   "metadata": {},
   "outputs": [],
   "source": [
    "import numpy as np\n",
    "import matplotlib.pyplot as plt\n",
    "from matplotlib.widgets import Button\n",
    "\n",
    "%matplotlib qt"
   ]
  },
  {
   "cell_type": "code",
   "execution_count": 5,
   "id": "greatest-guest",
   "metadata": {},
   "outputs": [],
   "source": [
    "file = '../IQ_Cap/03-17-2021_150003'\n",
    "Dfile = '../IQ_Cap/Drone-03-17-2021_153631'\n",
    "NumSamp = 1024\n",
    "\n",
    "samples = np.fromfile(file + '.iq', np.complex64)\n",
    "drone_samp = np.fromfile(Dfile + '.iq', np.complex64)"
   ]
  },
  {
   "cell_type": "code",
   "execution_count": 6,
   "id": "controlling-suspect",
   "metadata": {},
   "outputs": [],
   "source": [
    "params = dict()\n",
    "with open(file + '.txt') as f:\n",
    "    split = [a.strip('\\n').split(': ') for a in f.readlines()]\n",
    "    for i in split:\n",
    "        params[i[0]] = int(i[1])    \n",
    "    f.close()"
   ]
  },
  {
   "cell_type": "code",
   "execution_count": 7,
   "id": "adolescent-stomach",
   "metadata": {},
   "outputs": [],
   "source": [
    "Dparams = dict()\n",
    "with open(Dfile + '.txt') as f:\n",
    "    split = [a.strip('\\n').split(': ') for a in f.readlines()]\n",
    "    for i in split:\n",
    "        Dparams[i[0]] = int(i[1]) if 'Drone' not in i[0] else i[1]\n",
    "    f.close()"
   ]
  },
  {
   "cell_type": "code",
   "execution_count": 8,
   "id": "forced-classroom",
   "metadata": {},
   "outputs": [
    {
     "data": {
      "text/plain": [
       "{'LO': 2440500000,\n",
       " 'BW': 56000000,\n",
       " 'Sample Rate': 40000000,\n",
       " 'Buffer Size': 1024}"
      ]
     },
     "execution_count": 8,
     "metadata": {},
     "output_type": "execute_result"
    }
   ],
   "source": [
    "params"
   ]
  },
  {
   "cell_type": "code",
   "execution_count": 9,
   "id": "ancient-vampire",
   "metadata": {},
   "outputs": [
    {
     "data": {
      "text/plain": [
       "{'LO': 2440500000,\n",
       " 'BW': 56000000,\n",
       " 'Sample Rate': 40000000,\n",
       " 'Buffer Size': 1024,\n",
       " 'Drone BW': '10Mhz',\n",
       " 'Drone Center Freq': '2.4405'}"
      ]
     },
     "execution_count": 9,
     "metadata": {},
     "output_type": "execute_result"
    }
   ],
   "source": [
    "Dparams"
   ]
  },
  {
   "cell_type": "code",
   "execution_count": 10,
   "id": "treated-missouri",
   "metadata": {},
   "outputs": [],
   "source": [
    "samp_range = np.arange(0,NumSamp) #+ params['Buffer Size']*3"
   ]
  },
  {
   "cell_type": "code",
   "execution_count": 11,
   "id": "professional-group",
   "metadata": {
    "tags": []
   },
   "outputs": [],
   "source": [
    "def FFT(samples, buf, samprate, lo):\n",
    "    fft = np.fft.fftshift(np.fft.fft(samples)) / buf\n",
    "    freqLabels = np.fft.fftshift(np.fft.fftfreq(buf, 1/samprate)) + lo\n",
    "    fft_mag = np.log10(np.abs(fft))\n",
    "    return fft_mag, freqLabels\n"
   ]
  },
  {
   "cell_type": "code",
   "execution_count": 12,
   "id": "august-crack",
   "metadata": {},
   "outputs": [],
   "source": [
    "freqData, freqLabels = FFT(samples[samp_range], NumSamp, params['Sample Rate'], params['LO'])\n",
    "droneFreqData, droneFreqLabels = FFT(drone_samp[samp_range], NumSamp, Dparams['Sample Rate'], Dparams['LO'])"
   ]
  },
  {
   "cell_type": "code",
   "execution_count": 25,
   "id": "alone-boundary",
   "metadata": {
    "tags": []
   },
   "outputs": [
    {
     "data": {
      "text/plain": [
       "0"
      ]
     },
     "execution_count": 25,
     "metadata": {},
     "output_type": "execute_result"
    }
   ],
   "source": [
    "timeData = dict()\n",
    "timeData['I'] = np.real(samples[samp_range])\n",
    "timeData['Q'] = np.imag(samples[samp_range])\n",
    "\n",
    "droneTimeData = dict()\n",
    "droneTimeData['I'] = np.real(drone_samp[samp_range])\n",
    "droneTimeData['Q'] = np.imag(drone_samp[samp_range])\n",
    "\n",
    "fig = plt.figure(figsize=(15,10))\n",
    "plt.subplot(2,2,1)\n",
    "plt.title('Nominal Time Domain')\n",
    "plt.xlabel('Samples')\n",
    "plt.ylabel('Amplitude')\n",
    "Nti, = plt.plot(timeData['I'], label='I')\n",
    "Ntq, = plt.plot(timeData['Q'], label='Q')\n",
    "plt.subplot(2,2,2)\n",
    "plt.title('Drone Time Domain')\n",
    "plt.xlabel('Samples')\n",
    "plt.ylabel('Amplitude')\n",
    "Dti, = plt.plot(droneTimeData['I'], label='I')\n",
    "Dtq, = plt.plot(droneTimeData['Q'], label='Q')\n",
    "plt.subplot(2,2,3)\n",
    "plt.title('Nominal Frequency Domain')\n",
    "plt.xlabel('Frequency')\n",
    "plt.ylabel('Magnitude')\n",
    "Nf, = plt.plot(freqLabels, freqData, label='Nominal')\n",
    "plt.subplot(2,2,4)\n",
    "plt.title('Drone Frequency Domain')\n",
    "plt.xlabel('Frequency')\n",
    "plt.ylabel('Magnitude')\n",
    "Df, = plt.plot(droneFreqLabels, droneFreqData, label='Drone Present')\n",
    "\n",
    "fig.text(.3,.95,f\"LO: {params['LO']} | Buffer: {params['Buffer Size']} | Sample Rate: {params['Sample Rate']}\", fontsize=12)\n",
    "fig.text(.3,.92,f\"RF Bandwidth: {params['BW']} | Drone Bandwidth: {Dparams['Drone BW']} | Drone Center Frequency: {Dparams['Drone Center Freq']}\", fontsize=12)\n",
    "\n",
    "\n",
    "text = fig.text(.85,.935,f\"Samples: {samp_range[0]} to {params['Buffer Size']}\", fontsize=10)\n",
    "\n",
    "class Index():\n",
    "    ind = 0\n",
    "\n",
    "    def next(self, event):\n",
    "        self.ind += NumSamp\n",
    "        i = self.ind % len(samples)//NumSamp\n",
    "        \n",
    "        Ntupi = np.real(samples[samp_range + params['Buffer Size']*i])\n",
    "        Ntupq = np.imag(samples[samp_range + params['Buffer Size']*i])\n",
    "        \n",
    "        Dtupi = np.real(drone_samp[samp_range + params['Buffer Size']*i])\n",
    "        Dtupq = np.imag(drone_samp[samp_range + params['Buffer Size']*i])\n",
    "        \n",
    "        freqData, freqLabels = FFT(samples[samp_range + params['Buffer Size']*i], NumSamp, params['Sample Rate'], params['LO'])\n",
    "        droneFreqData, droneFreqLabels = FFT(drone_samp[samp_range + params['Buffer Size']*i], NumSamp, Dparams['Sample Rate'], Dparams['LO'])\n",
    "        \n",
    "        Nti.set_ydata(Ntupi)\n",
    "        Ntq.set_ydata(Ntupq)\n",
    "        \n",
    "        Dti.set_ydata(Ntupi)\n",
    "        Dtq.set_ydata(Ntupq)\n",
    "\n",
    "        Nf.set_xdata(freqLabels)\n",
    "        Nf.set_ydata(freqData)\n",
    "        Df.set_xdata(droneFreqLabels)\n",
    "        Df.set_ydata(droneFreqData)\n",
    "        \n",
    "        \n",
    "        #print(\"Next!\")\n",
    "        \n",
    "        text.set_text(f\"Samples: {samp_range[0] + params['Buffer Size']*i} to {samp_range[-1] + params['Buffer Size']*i}\")\n",
    "        \n",
    "        plt.draw()\n",
    "\n",
    "    def prev(self, event):\n",
    "        self.ind -= NumSamp\n",
    "        i = self.ind % len(samples)//NumSamp\n",
    "        \n",
    "        Ntupi = np.real(samples[samp_range + params['Buffer Size']*i])\n",
    "        Ntupq = np.imag(samples[samp_range + params['Buffer Size']*i])\n",
    "        \n",
    "        Dtupi = np.real(drone_samp[samp_range + params['Buffer Size']*i])\n",
    "        Dtupq = np.imag(drone_samp[samp_range + params['Buffer Size']*i])\n",
    "        \n",
    "        freqData, freqLabels = FFT(samples[samp_range + params['Buffer Size']*i], NumSamp, params['Sample Rate'], params['LO'])\n",
    "        droneFreqData, droneFreqLabels = FFT(drone_samp[samp_range + params['Buffer Size']*i], NumSamp, Dparams['Sample Rate'], Dparams['LO'])\n",
    "        \n",
    "        Nti.set_ydata(Ntupi)\n",
    "        Ntq.set_ydata(Ntupq)\n",
    "        \n",
    "        Dti.set_ydata(Ntupi)\n",
    "        Dtq.set_ydata(Ntupq)\n",
    "\n",
    "        Nf.set_xdata(freqLabels)\n",
    "        Nf.set_ydata(freqData)\n",
    "        Df.set_xdata(droneFreqLabels)\n",
    "        Df.set_ydata(droneFreqData)\n",
    "        \n",
    "        #print(\"Prev!\")\n",
    "        \n",
    "        text.set_text(f\"Samples: {samp_range[0] + params['Buffer Size']*i} to {samp_range[-1] + params['Buffer Size']*i}\")\n",
    "        \n",
    "        plt.draw()\n",
    "\n",
    "callback = Index()\n",
    "axprev = plt.axes([0.9, 0.43, 0.1, 0.075])\n",
    "axnext = plt.axes([0.9, 0.53, 0.1, 0.075])\n",
    "bnext = Button(axnext, 'Next')\n",
    "bnext.on_clicked(callback.next)\n",
    "bprev = Button(axprev, 'Previous')\n",
    "bprev.on_clicked(callback.prev)"
   ]
  },
  {
   "cell_type": "raw",
   "id": "perfect-cylinder",
   "metadata": {},
   "source": [
    "plt.figure()\n",
    "plt.subplot(2,1,1)\n",
    "plt.plot(freqLabels, freqData, label='Nominal')\n",
    "plt.subplot(2,1,2)\n",
    "plt.plot(droneFreqLabels, droneFreqData, label='Drone Present')\n",
    "plt.show()"
   ]
  },
  {
   "cell_type": "code",
   "execution_count": null,
   "id": "decimal-soundtrack",
   "metadata": {},
   "outputs": [],
   "source": []
  }
 ],
 "metadata": {
  "kernelspec": {
   "display_name": "SDRenv",
   "language": "python",
   "name": "sdrenv"
  },
  "language_info": {
   "codemirror_mode": {
    "name": "ipython",
    "version": 3
   },
   "file_extension": ".py",
   "mimetype": "text/x-python",
   "name": "python",
   "nbconvert_exporter": "python",
   "pygments_lexer": "ipython3",
   "version": "3.7.3"
  }
 },
 "nbformat": 4,
 "nbformat_minor": 5
}
